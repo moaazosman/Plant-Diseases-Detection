{
 "cells": [
  {
   "cell_type": "markdown",
   "id": "60cbd815-da6d-4ae9-bdf6-0928d639fe22",
   "metadata": {},
   "source": [
    "---\n",
    "25/06/2023\n",
    "\n",
    "<img src=\"249 Analatica - Logo-19.png\" alt=\"Logo\" style=\"display: block; margin-left: auto; margin-right: auto; width: 200px;\">\n",
    "\n",
    "# <p style=\"text-align: center;\"><span style=\"color:#0077D4;\">249Analytica Company</span></p>\n",
    "\n",
    "---\n",
    "\n",
    "# <p style=\"text-align: center;\"><span style=\"color:black![249 Analatica - Logo-19.png.png](attachment:49912ee0-3595-4bb0-af56-1862b0ce6c57.png);\">Corn Diseases Detection Model</span></p>\n",
    "\n",
    "---\n",
    "# Introduction:\n",
    "\n",
    "The purpose of this report is to present the results and evaluation of a Corn Disease Detection model. The model was developed to accurately classify grape plants as healthy or infected with specific diseases, including Gray_leaf_spot, Common_rust, and Northern_Leaf_Blight. The model was trained and evaluated using a dataset containing images of grape plants."
   ]
  },
  {
   "cell_type": "code",
   "execution_count": null,
   "id": "9af3b672-0dca-4651-9dd0-e8dcc18ab121",
   "metadata": {},
   "outputs": [],
   "source": []
  },
  {
   "cell_type": "markdown",
   "id": "4b25a360-8283-44ab-84c5-da9e04f4dce7",
   "metadata": {},
   "source": [
    "---\n",
    "# Essential Libraries and Modules "
   ]
  },
  {
   "cell_type": "code",
   "execution_count": 2,
   "id": "8d358903-60d5-4304-8e48-2b81abeac271",
   "metadata": {},
   "outputs": [],
   "source": [
    "import os\n",
    "import numpy as np\n",
    "import pandas as pd\n",
    "import matplotlib.pyplot as plt\n",
    "import seaborn as sns\n",
    "from sklearn.model_selection import train_test_split\n",
    "from tensorflow.keras.preprocessing.image import ImageDataGenerator\n",
    "from tensorflow.keras.models import Sequential\n",
    "from tensorflow.keras.layers import Conv2D, MaxPooling2D, Flatten, Dense, Dropout, BatchNormalization\n",
    "from tensorflow.keras.callbacks import EarlyStopping\n",
    "from tensorflow import keras\n",
    "from tensorflow.keras import layers"
   ]
  },
  {
   "cell_type": "markdown",
   "id": "95e0cc08-284b-40ae-bf6f-51efe78dce31",
   "metadata": {},
   "source": [
    "---\n",
    "# Data Preparation and Path Handling"
   ]
  },
  {
   "cell_type": "code",
   "execution_count": 3,
   "id": "d2c90ef6-5f9f-4dcc-8d0c-bac97d64990c",
   "metadata": {},
   "outputs": [],
   "source": [
    "data_dir = 'C:/Users/DELL/Documents/Datasets/Plant Diseases Dataset/corn'\n",
    "\n",
    "# Create paths for infected and uninfected images\n",
    "healthy_path = os.path.join(data_dir, 'Corn_(maize)___healthy')\n",
    "Common_rust_path = os.path.join(data_dir, 'Corn_(maize)___Common_rust_')\n",
    "Leaf_Blight_path = os.path.join(data_dir, 'Corn_(maize)___Northern_Leaf_Blight')\n",
    "Gray_leaf_spot_path = os.path.join(data_dir, 'Corn_(maize)___Cercospora_leaf_spot Gray_leaf_spot')\n",
    "\n",
    "# Read the images and create labels\n",
    "healthy_images = [os.path.join(healthy_path, img) for img in os.listdir(healthy_path)]\n",
    "Common_rust_images = [os.path.join(Common_rust_path, img) for img in os.listdir(Common_rust_path)]\n",
    "Leaf_blight_images = [os.path.join(Leaf_Blight_path, img) for img in os.listdir(Leaf_Blight_path)]\n",
    "Gray_leaf_images = [os.path.join(Gray_leaf_spot_path, img) for img in os.listdir(Gray_leaf_spot_path)]\n",
    "\n",
    "# Create a dataframe to store image paths and labels\n",
    "data = pd.DataFrame(\n",
    "    {'image_path': healthy_images +\n",
    "     Common_rust_images + \n",
    "     Leaf_blight_images+\n",
    "     Gray_leaf_images,\n",
    "    'label': ['Healthy'] * len(healthy_images) + \n",
    "     ['Infected: Common_rust'] * len(Common_rust_images) +\n",
    "     ['Infected: Leaf_blight'] * len(Leaf_blight_images)+\n",
    "     ['Infected: Gray_leaf'] * len(Gray_leaf_images)})"
   ]
  },
  {
   "cell_type": "code",
   "execution_count": 4,
   "id": "226bfaf5-25ca-4550-ae40-f22c0b49f499",
   "metadata": {},
   "outputs": [
    {
     "data": {
      "text/html": [
       "<div>\n",
       "<style scoped>\n",
       "    .dataframe tbody tr th:only-of-type {\n",
       "        vertical-align: middle;\n",
       "    }\n",
       "\n",
       "    .dataframe tbody tr th {\n",
       "        vertical-align: top;\n",
       "    }\n",
       "\n",
       "    .dataframe thead th {\n",
       "        text-align: right;\n",
       "    }\n",
       "</style>\n",
       "<table border=\"1\" class=\"dataframe\">\n",
       "  <thead>\n",
       "    <tr style=\"text-align: right;\">\n",
       "      <th></th>\n",
       "      <th>image_path</th>\n",
       "      <th>label</th>\n",
       "    </tr>\n",
       "  </thead>\n",
       "  <tbody>\n",
       "    <tr>\n",
       "      <th>0</th>\n",
       "      <td>C:/Users/DELL/Documents/Datasets/Plant Disease...</td>\n",
       "      <td>Healthy</td>\n",
       "    </tr>\n",
       "    <tr>\n",
       "      <th>1</th>\n",
       "      <td>C:/Users/DELL/Documents/Datasets/Plant Disease...</td>\n",
       "      <td>Healthy</td>\n",
       "    </tr>\n",
       "    <tr>\n",
       "      <th>2</th>\n",
       "      <td>C:/Users/DELL/Documents/Datasets/Plant Disease...</td>\n",
       "      <td>Healthy</td>\n",
       "    </tr>\n",
       "    <tr>\n",
       "      <th>3</th>\n",
       "      <td>C:/Users/DELL/Documents/Datasets/Plant Disease...</td>\n",
       "      <td>Healthy</td>\n",
       "    </tr>\n",
       "    <tr>\n",
       "      <th>4</th>\n",
       "      <td>C:/Users/DELL/Documents/Datasets/Plant Disease...</td>\n",
       "      <td>Healthy</td>\n",
       "    </tr>\n",
       "    <tr>\n",
       "      <th>...</th>\n",
       "      <td>...</td>\n",
       "      <td>...</td>\n",
       "    </tr>\n",
       "    <tr>\n",
       "      <th>7311</th>\n",
       "      <td>C:/Users/DELL/Documents/Datasets/Plant Disease...</td>\n",
       "      <td>Infected: Gray_leaf</td>\n",
       "    </tr>\n",
       "    <tr>\n",
       "      <th>7312</th>\n",
       "      <td>C:/Users/DELL/Documents/Datasets/Plant Disease...</td>\n",
       "      <td>Infected: Gray_leaf</td>\n",
       "    </tr>\n",
       "    <tr>\n",
       "      <th>7313</th>\n",
       "      <td>C:/Users/DELL/Documents/Datasets/Plant Disease...</td>\n",
       "      <td>Infected: Gray_leaf</td>\n",
       "    </tr>\n",
       "    <tr>\n",
       "      <th>7314</th>\n",
       "      <td>C:/Users/DELL/Documents/Datasets/Plant Disease...</td>\n",
       "      <td>Infected: Gray_leaf</td>\n",
       "    </tr>\n",
       "    <tr>\n",
       "      <th>7315</th>\n",
       "      <td>C:/Users/DELL/Documents/Datasets/Plant Disease...</td>\n",
       "      <td>Infected: Gray_leaf</td>\n",
       "    </tr>\n",
       "  </tbody>\n",
       "</table>\n",
       "<p>7316 rows × 2 columns</p>\n",
       "</div>"
      ],
      "text/plain": [
       "                                             image_path                label\n",
       "0     C:/Users/DELL/Documents/Datasets/Plant Disease...              Healthy\n",
       "1     C:/Users/DELL/Documents/Datasets/Plant Disease...              Healthy\n",
       "2     C:/Users/DELL/Documents/Datasets/Plant Disease...              Healthy\n",
       "3     C:/Users/DELL/Documents/Datasets/Plant Disease...              Healthy\n",
       "4     C:/Users/DELL/Documents/Datasets/Plant Disease...              Healthy\n",
       "...                                                 ...                  ...\n",
       "7311  C:/Users/DELL/Documents/Datasets/Plant Disease...  Infected: Gray_leaf\n",
       "7312  C:/Users/DELL/Documents/Datasets/Plant Disease...  Infected: Gray_leaf\n",
       "7313  C:/Users/DELL/Documents/Datasets/Plant Disease...  Infected: Gray_leaf\n",
       "7314  C:/Users/DELL/Documents/Datasets/Plant Disease...  Infected: Gray_leaf\n",
       "7315  C:/Users/DELL/Documents/Datasets/Plant Disease...  Infected: Gray_leaf\n",
       "\n",
       "[7316 rows x 2 columns]"
      ]
     },
     "execution_count": 4,
     "metadata": {},
     "output_type": "execute_result"
    }
   ],
   "source": [
    "data"
   ]
  },
  {
   "cell_type": "code",
   "execution_count": 5,
   "id": "f9fadabd-dbfe-4948-a3b5-280318db581b",
   "metadata": {},
   "outputs": [],
   "source": [
    "# Split the data into training and testing sets\n",
    "train_data, test_data, train_labels, test_labels = train_test_split(\n",
    "     data['image_path'], data['label'],\n",
    "     test_size=0.1, random_state=42\n",
    ")"
   ]
  },
  {
   "cell_type": "markdown",
   "id": "cd1e5f02-16ec-4b88-aa54-d60e7d1097ab",
   "metadata": {},
   "source": [
    "---\n",
    "# Data Loading and Preprocessing"
   ]
  },
  {
   "cell_type": "code",
   "execution_count": 6,
   "id": "f02dd4bc-4771-4af6-9590-942315985b10",
   "metadata": {},
   "outputs": [
    {
     "name": "stdout",
     "output_type": "stream",
     "text": [
      "Found 6584 validated image filenames belonging to 4 classes.\n",
      "Found 732 validated image filenames belonging to 4 classes.\n"
     ]
    }
   ],
   "source": [
    "\n",
    "# Load and preprocess training and testing images using ImageDataGenerator\n",
    "image_generator = ImageDataGenerator(\n",
    "    rescale=1./255, \n",
    "    shear_range=0.1, \n",
    "    zoom_range=0.1, \n",
    "    horizontal_flip=True   \n",
    ")\n",
    "# Load and preprocess training images\n",
    "train_images = image_generator.flow_from_dataframe(\n",
    "    dataframe=pd.DataFrame({'image_path': train_data, 'label': train_labels}),\n",
    "    x_col='image_path', y_col='label',\n",
    "    target_size=(64, 64), batch_size=64\n",
    ")\n",
    "\n",
    "# Load and preprocess testing images\n",
    "test_images = image_generator.flow_from_dataframe(\n",
    "    dataframe=pd.DataFrame({'image_path': test_data, 'label': test_labels}),\n",
    "    x_col='image_path', y_col='label',\n",
    "    target_size=(64, 64), batch_size=64\n",
    ")"
   ]
  },
  {
   "cell_type": "markdown",
   "id": "bda0c1c5-174c-45cf-bdde-9380440171af",
   "metadata": {},
   "source": [
    "---\n",
    "# Building (CNN) Model"
   ]
  },
  {
   "cell_type": "code",
   "execution_count": 7,
   "id": "32efcead-385f-49a5-9490-b3a956f0cd2f",
   "metadata": {},
   "outputs": [],
   "source": [
    "# Create a sequential model\n",
    "model = Sequential()\n",
    "\n",
    "# Add convolutional and pooling layers\n",
    "model.add(Conv2D(32, (3, 3), activation='relu', input_shape=(64, 64, 3)))\n",
    "model.add(MaxPooling2D(pool_size=(2, 2)))\n",
    "\n",
    "model.add(Conv2D(64, (3, 3), activation='relu'))\n",
    "model.add(MaxPooling2D(pool_size=(2, 2)))\n",
    "\n",
    "model.add(Conv2D(128, (3, 3), activation='relu'))\n",
    "model.add(MaxPooling2D(pool_size=(2, 2)))\n",
    "\n",
    "# Flatten the feature maps\n",
    "model.add(Flatten())\n",
    "\n",
    "# Add fully connected layers\n",
    "model.add(Dense(256, activation='relu'))\n",
    "model.add(Dropout(0.5))\n",
    "\n",
    "model.add(Dense(128, activation='relu'))\n",
    "model.add(Dropout(0.5))\n",
    "\n",
    "# Adjust the number of units in the output layer based on the number of classes\n",
    "num_classes = 4\n",
    "model.add(Dense(num_classes, activation='softmax'))\n",
    "\n",
    "# Compile the model\n",
    "model.compile(optimizer='adam', loss='categorical_crossentropy', metrics=['accuracy'])"
   ]
  },
  {
   "cell_type": "code",
   "execution_count": 8,
   "id": "990083b8-7d18-49da-a2ae-0deeb29230d6",
   "metadata": {},
   "outputs": [
    {
     "name": "stdout",
     "output_type": "stream",
     "text": [
      "Epoch 1/30\n",
      "103/103 [==============================] - 40s 371ms/step - loss: 0.7157 - accuracy: 0.6681 - val_loss: 0.3283 - val_accuracy: 0.8456\n",
      "Epoch 2/30\n",
      "103/103 [==============================] - 38s 365ms/step - loss: 0.3580 - accuracy: 0.8495 - val_loss: 0.2440 - val_accuracy: 0.9344\n",
      "Epoch 3/30\n",
      "103/103 [==============================] - 37s 364ms/step - loss: 0.2325 - accuracy: 0.9122 - val_loss: 0.2321 - val_accuracy: 0.9221\n",
      "Epoch 4/30\n",
      "103/103 [==============================] - 37s 361ms/step - loss: 0.1703 - accuracy: 0.9388 - val_loss: 0.2406 - val_accuracy: 0.9303\n",
      "Epoch 5/30\n",
      "103/103 [==============================] - 37s 361ms/step - loss: 0.1835 - accuracy: 0.9405 - val_loss: 0.1730 - val_accuracy: 0.9508\n",
      "Epoch 6/30\n",
      "103/103 [==============================] - 38s 364ms/step - loss: 0.1365 - accuracy: 0.9526 - val_loss: 0.1605 - val_accuracy: 0.9522\n",
      "Epoch 7/30\n",
      "103/103 [==============================] - 38s 364ms/step - loss: 0.1304 - accuracy: 0.9561 - val_loss: 0.1475 - val_accuracy: 0.9563\n",
      "Epoch 8/30\n",
      "103/103 [==============================] - 37s 364ms/step - loss: 0.1154 - accuracy: 0.9608 - val_loss: 0.1589 - val_accuracy: 0.9508\n",
      "Epoch 9/30\n",
      "103/103 [==============================] - 37s 363ms/step - loss: 0.1052 - accuracy: 0.9635 - val_loss: 0.1897 - val_accuracy: 0.9522\n",
      "Epoch 10/30\n",
      "103/103 [==============================] - 38s 364ms/step - loss: 0.1132 - accuracy: 0.9614 - val_loss: 0.1874 - val_accuracy: 0.9522\n"
     ]
    }
   ],
   "source": [
    "# Set early stopping criteria\n",
    "early_stopping = EarlyStopping(monitor='val_loss', patience=3)\n",
    "\n",
    "# Train the model\n",
    "history = model.fit(\n",
    "    train_images, epochs=30, \n",
    "    validation_data=test_images, \n",
    "    callbacks=[early_stopping]\n",
    ")"
   ]
  },
  {
   "cell_type": "markdown",
   "id": "8c49e0c6-0700-403d-90f8-f3af2e66fea4",
   "metadata": {},
   "source": [
    "---\n",
    "# Test Accuracy and Plots"
   ]
  },
  {
   "cell_type": "code",
   "execution_count": 9,
   "id": "8a7e2dd8-5dd9-49e5-8654-84b146c1a83d",
   "metadata": {},
   "outputs": [
    {
     "name": "stdout",
     "output_type": "stream",
     "text": [
      "12/12 [==============================] - 2s 171ms/step - loss: 0.1508 - accuracy: 0.9454\n",
      "Test Loss: 0.15078040957450867\n",
      "Test Accuracy: 0.9453551769256592\n"
     ]
    }
   ],
   "source": [
    "# Evaluate the model on the test set\n",
    "loss, accuracy = model.evaluate(test_images)\n",
    "print('Test Loss:', loss)\n",
    "print('Test Accuracy:', accuracy)"
   ]
  },
  {
   "cell_type": "code",
   "execution_count": 10,
   "id": "efe11f1f-4d21-493f-b592-8d85693ff4dd",
   "metadata": {},
   "outputs": [
    {
     "data": {
      "image/png": "[encoded data removed]",
      "text/plain": [
       "<Figure size 1000x500 with 2 Axes>"
      ]
     },
     "metadata": {},
     "output_type": "display_data"
    }
   ],
   "source": [
    "import matplotlib.pyplot as plt\n",
    "\n",
    "# Extract accuracy and loss values from the training history\n",
    "training_accuracy = history.history['accuracy']\n",
    "validation_accuracy = history.history['val_accuracy']\n",
    "training_loss = history.history['loss']\n",
    "validation_loss = history.history['val_loss']\n",
    "\n",
    "# Number of epochs\n",
    "epochs = range(1, len(training_accuracy) + 1)\n",
    "\n",
    "# Create the figure and axes for the plot\n",
    "fig, ax1 = plt.subplots(figsize=(10, 5))\n",
    "\n",
    "# Plot the trend line for training accuracy\n",
    "ax1.plot(epochs, training_accuracy, 'b', label='Training Accuracy')\n",
    "\n",
    "# Plot the trend line for validation accuracy\n",
    "ax1.plot(epochs, validation_accuracy, 'r', label='Validation Accuracy')\n",
    "\n",
    "# Set y-axis limits for accuracy\n",
    "ax1.set_ylim([0, 1])\n",
    "\n",
    "# Set plot title, x-axis label, and y-axis label for accuracy\n",
    "ax1.set_title('Training and Validation Accuracy', fontsize=14)\n",
    "ax1.set_xlabel('Epochs', fontsize=12)\n",
    "ax1.set_ylabel('Accuracy', fontsize=12)\n",
    "\n",
    "# Create a twin y-axis for loss\n",
    "ax2 = ax1.twinx()\n",
    "\n",
    "# Plot the trend line for training loss\n",
    "ax2.plot(epochs, training_loss, 'green', label='Training Loss')\n",
    "\n",
    "# Plot the trend line for validation loss\n",
    "ax2.plot(epochs, validation_loss, 'orange', label='Validation Loss')\n",
    "\n",
    "# Set y-axis limits for loss\n",
    "ax2.set_ylim([0, max(training_loss + validation_loss) * 1.1])\n",
    "\n",
    "# Set y-axis label for loss\n",
    "ax2.set_ylabel('Loss', fontsize=12)\n",
    "\n",
    "# Remove the frames of the plot\n",
    "ax1.spines['top'].set_visible(False)\n",
    "ax1.spines['right'].set_visible(False)\n",
    "ax1.spines['bottom'].set_visible(False)\n",
    "ax1.spines['left'].set_visible(False)\n",
    "\n",
    "ax2.spines['top'].set_visible(False)\n",
    "ax2.spines['right'].set_visible(False)\n",
    "ax2.spines['bottom'].set_visible(False)\n",
    "ax2.spines['left'].set_visible(False)\n",
    "\n",
    "# Add gridlines\n",
    "ax1.grid(color='lightgray', linestyle='-')\n",
    "\n",
    "# Customize tick labels\n",
    "ax1.tick_params(axis='both', which='major', labelsize=10)\n",
    "\n",
    "# Add labels to the data points for accuracy\n",
    "for i, acc in enumerate(training_accuracy):\n",
    "    ax1.annotate(\n",
    "        f'{round(acc*100, 2)}%', xy=(i+1, acc), xytext=(5, 5),\n",
    "        textcoords='offset points', fontsize=8, color='b'\n",
    "    )\n",
    "    \n",
    "for i, acc in enumerate(validation_accuracy):\n",
    "    ax1.annotate(\n",
    "        f'{round(acc*100, 2)}%', xy=(i+1, acc), xytext=(5, -15), \n",
    "        textcoords='offset points', fontsize=8, color='r'\n",
    "    )\n",
    "\n",
    "# Add labels to the data points for loss\n",
    "for i, loss in enumerate(training_loss):\n",
    "    ax2.annotate(\n",
    "        f'{round(loss, 2)}', xy=(i+1, loss), xytext=(5, 5),\n",
    "        textcoords='offset points', fontsize=8, color='green'\n",
    "    )\n",
    "    \n",
    "for i, loss in enumerate(validation_loss):\n",
    "    ax2.annotate(\n",
    "        f'{round(loss, 2)}', xy=(i+1, loss), xytext=(5, -15), \n",
    "        textcoords='offset points', fontsize=8, color='orange'\n",
    "    )\n",
    "\n",
    "# Combine the legend for accuracy and loss and position it in the middle right\n",
    "handles, labels = ax1.get_legend_handles_labels()\n",
    "handles2, labels2 = ax2.get_legend_handles_labels()\n",
    "ax2.legend(handles + handles2, labels + labels2, fontsize=10, loc='center right')\n",
    "\n",
    "# Save the plot as an image\n",
    "plt.savefig('Accuracy and Loss Trend_2.png', dpi=300)\n",
    "\n",
    "# Display the plot\n",
    "plt.show()"
   ]
  },
  {
   "cell_type": "code",
   "execution_count": 11,
   "id": "492b2a12-cf71-4542-b632-7800a4d773c3",
   "metadata": {},
   "outputs": [],
   "source": [
    "model.save('corn_disease_detection_model2.h5')"
   ]
  },
  {
   "cell_type": "code",
   "execution_count": null,
   "id": "c25dadcb-fae5-488b-86e5-3bb2aca2a0cb",
   "metadata": {},
   "outputs": [],
   "source": []
  }
 ],
 "metadata": {
  "kernelspec": {
   "display_name": "Python 3 (ipykernel)",
   "language": "python",
   "name": "python3"
  },
  "language_info": {
   "codemirror_mode": {
    "name": "ipython",
    "version": 3
   },
   "file_extension": ".py",
   "mimetype": "text/x-python",
   "name": "python",
   "nbconvert_exporter": "python",
   "pygments_lexer": "ipython3",
   "version": "3.9.13"
  }
 },
 "nbformat": 4,
 "nbformat_minor": 5
}
